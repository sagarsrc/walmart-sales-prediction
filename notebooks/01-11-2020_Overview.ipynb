{
 "cells": [
  {
   "cell_type": "markdown",
   "metadata": {},
   "source": [
    "# Overview of Problem"
   ]
  },
  {
   "cell_type": "markdown",
   "metadata": {},
   "source": [
    "## Problem statement:\n",
    "Given historical data of Walmart sales, predict sales for the next 28 days.\n",
    "\n",
    "[source](https://www.kaggle.com/c/m5-forecasting-accuracy/)\n",
    "\n",
    "## Description: \n",
    "\n",
    "`Forecast` : Predicting events or trend in future \n",
    "\n",
    "The task we have at hand is forecasting, meaning we need to predict points for the upcoming future.\n",
    "This task comprises doing a point estimate of sales of various products sold by Walmart for the points in future. Using historical data we need to forecast sales.\n",
    "\n",
    "This will enable company to better prepare for future risks and implications by answering:\n",
    "- What can be done to tackle upcoming losses?\n",
    "- What can be done to maximise profits?\n",
    "- How can operations in a company be optimized?\n",
    "\n",
    "Based on the trend which is predicted, Walmart can increase or decrease the amount of items in the inventory. \n",
    "\n",
    "e.g: In the event of upcoming holiday and winter people are more likely to plan to go for skiing and buy items required for skiing, it is necessary that Walmart predicts this beforehand so that it keeps it's inventory ready for customers and gain more profits."
   ]
  },
  {
   "cell_type": "markdown",
   "metadata": {},
   "source": [
    "# Business Constraints"
   ]
  },
  {
   "cell_type": "markdown",
   "metadata": {},
   "source": [
    "1. Cost of not predicting sales correctly can be very high\n",
    "1. No strict latency constraints\n",
    "1. Interpretability is partially important\n",
    "1. We want to predict future sales as correctly as possible"
   ]
  },
  {
   "cell_type": "markdown",
   "metadata": {},
   "source": [
    "# Machine Learning Problem"
   ]
  },
  {
   "cell_type": "markdown",
   "metadata": {},
   "source": [
    "## Data"
   ]
  },
  {
   "cell_type": "markdown",
   "metadata": {},
   "source": [
    "### Data Overview"
   ]
  },
  {
   "cell_type": "markdown",
   "metadata": {},
   "source": [
    "**Data**:\n",
    "\n",
    "1. Data is from 3 states of USA California, Texas, Wisconsin is present\n",
    "1. Data is hierarchical in nature, it can be aggregated on different levels such as\n",
    "    -  Item Level data\n",
    "    -  Department Level data\n",
    "    -  Product category level data\n",
    "    -  Store level details\n",
    "\n",
    "**Additional Data**:\n",
    "\n",
    "1. Price\n",
    "1. Promotions\n",
    "1. Day of week\n",
    "1. Special events\n",
    "\n",
    "Looking briefly at data we have, we can tell that sales of Walmart depend on various factors.\n",
    "Sales can drop or shoot with the upcoming special event.\n",
    "At the same time sales of certain product might increase or decrease based on the upcoming event.\n",
    "There will be seasonality in the sales of Walmart.\n",
    "This seasonality depends on various factors *Additional Data* will help us account for that seasonality in the data.\n",
    "\n",
    "Using additional data we will be make a robust forecasting system.\n"
   ]
  },
  {
   "cell_type": "markdown",
   "metadata": {},
   "source": [
    "### Understanding Fields in data"
   ]
  },
  {
   "cell_type": "markdown",
   "metadata": {},
   "source": [
    "**`calendar.csv`**:\n",
    "- date : Actual date on calendar\n",
    "- wm_yr_wk : Unique identifier given to a week of year\n",
    "- weekday : Monday, Tuesday... Sunday\n",
    "- wday : Number given to Weekday, Saturday -> 1 as per the data\n",
    "- month : Number given to Month of the year\n",
    "- year : Actual year on calendar\n",
    "- d : Unique identifier given to a day in data\n",
    "- event_name_1 : Name of special event 1\n",
    "- event_type_1 : Type of special event 1\n",
    "- event_name_2 : Name of special event 2\n",
    "- event_type_2 : Type of special event 2\n",
    "- snap_CA , snap_TX, snap_WI : SNAP event true or false\n",
    "\n",
    "    *snap_XX* : \n",
    "\n",
    "    - The United States federal government provides a nutrition assistance benefit called the Supplement Nutrition Assistance Program (SNAP). SNAP provides low income families and individuals with an Electronic Benefits Transfer debit card to purchase food products.\n",
    "    [reference](https://www.kaggle.com/c/m5-forecasting-accuracy/discussion/133614)\n",
    "    - XX : CA, TX, WI refers to California, Texas, Wisconsin respectively\n",
    "\n",
    "<hr>\n",
    "\n",
    "**`sales_train_validation.csv`**:\n",
    "- id: Unique ID given to each entry in the data format : \\<item_id\\>_\\<store_id\\>_\\<type_of_data\\>\n",
    "    - e.g: HOBBIES_1_001_CA_1_validation\n",
    "- item_id: Unique ID given to each item \n",
    "- dept_id: Unique ID given to each department\n",
    "- cat_id: Unique ID given to category of product\n",
    "- store_id: Unique ID given to each store\n",
    "- state_id: Unique ID given to each state\n",
    "- **d_1**, d_2, ... **d_1913**: Number of items sold for a particular *id*\n",
    "\n",
    "<hr>\n",
    "\n",
    "**`sales_train_evaluation.csv`**: \n",
    "- id: Unique ID given to each entry in the data format : \\<item_id\\>_\\<store_id\\>_\\<type_of_data\\>\n",
    "    - e.g: HOBBIES_1_001_CA_1_validation\n",
    "- item_id: Unique ID given to each item \n",
    "- dept_id: Unique ID given to each department\n",
    "- cat_id: Unique ID given to category of product\n",
    "- store_id: Unique ID given to each store\n",
    "- state_id: Unique ID given to each state\n",
    "- **d_1**, d_2, ... **d_1941**: Number of items sold for a particular *id*\n",
    "    \n",
    "<hr>\n",
    "\n",
    "1. **`sell_prices.csv`**: \n",
    "- store_id: Unique ID given to each store\n",
    "- item_id: Unique ID given to each item \n",
    "- wm_yr_wk : Unique identifier given to a week of year\n",
    "- sell_price: Selling price\n",
    "\n",
    "<hr>"
   ]
  },
  {
   "cell_type": "markdown",
   "metadata": {},
   "source": [
    "### Summary of data "
   ]
  },
  {
   "cell_type": "markdown",
   "metadata": {},
   "source": [
    "- It used hierarchical sales data, generously made available by Walmart, starting at the item level and aggregating to that of departments, product categories and stores in three geographical areas of the US: California, Texas, and Wisconsin.\n",
    "- Besides the time series data, it also included explanatory variables such as price, promotions, day of the week, and special events (e.g. Super Bowl, Valentine’s Day, and Orthodox Easter) that affect sales which are used to improve forecasting accuracy.\n",
    "- The distribution of uncertainty was assessed by asking participants to provide information on four indicative prediction intervals and the median.\n",
    "- The majority of the more than 42,840 time series display intermittency (sporadic sales including zeros).\n",
    "- Series displays intermittency, i.e., sporadic demand including zeros.\n",
    "\n",
    "[source](https://mofc.unic.ac.cy/m5-competition/)"
   ]
  },
  {
   "cell_type": "markdown",
   "metadata": {},
   "source": [
    "## Mapping the real world problem to Machine Learning Problem"
   ]
  },
  {
   "attachments": {
    "image.png": {
     "image/png": "[encoded data removed]"
    }
   },
   "cell_type": "markdown",
   "metadata": {},
   "source": [
    "### Type of problem\n",
    "The problem we have is time series forecasting, for given set of time dependent features.\n",
    "\n",
    "### Performance Metric\n",
    "Weighted Root Mean Squared Scaled Error (RMSSE). \n",
    "![image.png](attachment:image.png)\n",
    "\n",
    "[Kaggle Evaluation metric](https://www.kaggle.com/c/m5-forecasting-accuracy/overview/evaluation)\n",
    "\n",
    "\n",
    "[THE M5 COMPETITION Competitors’ Guide](https://mofc.unic.ac.cy/wp-content/uploads/2020/03/M5-Competitors-Guide-Final-10-March-2020.docx)"
   ]
  }
 ],
 "metadata": {
  "kernelspec": {
   "display_name": "Python 3",
   "language": "python",
   "name": "python3"
  },
  "language_info": {
   "codemirror_mode": {
    "name": "ipython",
    "version": 3
   },
   "file_extension": ".py",
   "mimetype": "text/x-python",
   "name": "python",
   "nbconvert_exporter": "python",
   "pygments_lexer": "ipython3",
   "version": "3.7.7"
  },
  "toc": {
   "base_numbering": 1,
   "nav_menu": {},
   "number_sections": false,
   "sideBar": true,
   "skip_h1_title": false,
   "title_cell": "Table of Contents",
   "title_sidebar": "Contents",
   "toc_cell": false,
   "toc_position": {},
   "toc_section_display": true,
   "toc_window_display": false
  }
 },
 "nbformat": 4,
 "nbformat_minor": 4
}
