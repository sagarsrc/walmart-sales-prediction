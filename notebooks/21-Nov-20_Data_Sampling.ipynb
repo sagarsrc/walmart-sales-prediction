{
 "cells": [
  {
   "cell_type": "code",
   "execution_count": 1,
   "metadata": {
    "ExecuteTime": {
     "end_time": "2020-11-21T09:52:50.768872Z",
     "start_time": "2020-11-21T09:52:49.596758Z"
    }
   },
   "outputs": [
    {
     "name": "stdout",
     "output_type": "stream",
     "text": [
      "Your data root path : ../data\n"
     ]
    }
   ],
   "source": [
    "# set path for source files\n",
    "import sys\n",
    "src_files_path = \"../src/\"\n",
    "if src_files_path not in sys.path:\n",
    "    sys.path.append(src_files_path)\n",
    "\n",
    "\n",
    "# required libraries\n",
    "import numpy as np\n",
    "import pandas as pd\n",
    "\n",
    "import matplotlib.pyplot as plt\n",
    "import seaborn as sns\n",
    "\n",
    "# custom scripts\n",
    "import data\n",
    "import utils\n",
    "\n",
    "data_prep = data.DataPrepare(\"../data\")\n",
    "util_handle = utils.Utils()"
   ]
  },
  {
   "cell_type": "code",
   "execution_count": 2,
   "metadata": {
    "ExecuteTime": {
     "end_time": "2020-11-21T09:52:56.925484Z",
     "start_time": "2020-11-21T09:52:54.066398Z"
    }
   },
   "outputs": [
    {
     "name": "stdout",
     "output_type": "stream",
     "text": [
      "Loading ../data/processed/data_melted.bin\n"
     ]
    }
   ],
   "source": [
    "data_melted = data_prep.prepare_data()"
   ]
  },
  {
   "cell_type": "code",
   "execution_count": 4,
   "metadata": {
    "ExecuteTime": {
     "end_time": "2020-11-21T09:53:51.267023Z",
     "start_time": "2020-11-21T09:53:51.262104Z"
    }
   },
   "outputs": [],
   "source": [
    "df_stm = data_melted['sales_train_melted']"
   ]
  },
  {
   "cell_type": "code",
   "execution_count": 5,
   "metadata": {
    "ExecuteTime": {
     "end_time": "2020-11-21T09:53:54.603176Z",
     "start_time": "2020-11-21T09:53:54.557311Z"
    }
   },
   "outputs": [
    {
     "name": "stdout",
     "output_type": "stream",
     "text": [
      "RangeIndex(start=0, stop=1000000, step=1)\n",
      "RangeIndex(start=1000000, stop=2000000, step=1)\n",
      "RangeIndex(start=2000000, stop=3000000, step=1)\n",
      "RangeIndex(start=3000000, stop=4000000, step=1)\n",
      "RangeIndex(start=4000000, stop=5000000, step=1)\n",
      "RangeIndex(start=5000000, stop=6000000, step=1)\n",
      "RangeIndex(start=6000000, stop=7000000, step=1)\n",
      "RangeIndex(start=7000000, stop=8000000, step=1)\n",
      "RangeIndex(start=8000000, stop=9000000, step=1)\n",
      "RangeIndex(start=9000000, stop=10000000, step=1)\n",
      "RangeIndex(start=10000000, stop=11000000, step=1)\n",
      "RangeIndex(start=11000000, stop=12000000, step=1)\n",
      "RangeIndex(start=12000000, stop=13000000, step=1)\n",
      "RangeIndex(start=13000000, stop=14000000, step=1)\n",
      "RangeIndex(start=14000000, stop=15000000, step=1)\n",
      "RangeIndex(start=15000000, stop=16000000, step=1)\n",
      "RangeIndex(start=16000000, stop=17000000, step=1)\n",
      "RangeIndex(start=17000000, stop=18000000, step=1)\n",
      "RangeIndex(start=18000000, stop=19000000, step=1)\n",
      "RangeIndex(start=19000000, stop=20000000, step=1)\n",
      "RangeIndex(start=20000000, stop=21000000, step=1)\n",
      "RangeIndex(start=21000000, stop=22000000, step=1)\n",
      "RangeIndex(start=22000000, stop=23000000, step=1)\n",
      "RangeIndex(start=23000000, stop=24000000, step=1)\n",
      "RangeIndex(start=24000000, stop=25000000, step=1)\n",
      "RangeIndex(start=25000000, stop=26000000, step=1)\n",
      "RangeIndex(start=26000000, stop=27000000, step=1)\n",
      "RangeIndex(start=27000000, stop=28000000, step=1)\n",
      "RangeIndex(start=28000000, stop=29000000, step=1)\n",
      "RangeIndex(start=29000000, stop=30000000, step=1)\n",
      "RangeIndex(start=30000000, stop=31000000, step=1)\n",
      "RangeIndex(start=31000000, stop=32000000, step=1)\n",
      "RangeIndex(start=32000000, stop=33000000, step=1)\n",
      "RangeIndex(start=33000000, stop=34000000, step=1)\n",
      "RangeIndex(start=34000000, stop=35000000, step=1)\n",
      "RangeIndex(start=35000000, stop=36000000, step=1)\n",
      "RangeIndex(start=36000000, stop=37000000, step=1)\n",
      "RangeIndex(start=37000000, stop=38000000, step=1)\n",
      "RangeIndex(start=38000000, stop=39000000, step=1)\n",
      "RangeIndex(start=39000000, stop=40000000, step=1)\n",
      "RangeIndex(start=40000000, stop=41000000, step=1)\n",
      "RangeIndex(start=41000000, stop=42000000, step=1)\n",
      "RangeIndex(start=42000000, stop=43000000, step=1)\n",
      "RangeIndex(start=43000000, stop=44000000, step=1)\n",
      "RangeIndex(start=44000000, stop=45000000, step=1)\n",
      "RangeIndex(start=45000000, stop=46000000, step=1)\n",
      "RangeIndex(start=46000000, stop=47000000, step=1)\n",
      "RangeIndex(start=47000000, stop=48000000, step=1)\n",
      "RangeIndex(start=48000000, stop=49000000, step=1)\n",
      "RangeIndex(start=49000000, stop=50000000, step=1)\n",
      "RangeIndex(start=50000000, stop=51000000, step=1)\n",
      "RangeIndex(start=51000000, stop=52000000, step=1)\n",
      "RangeIndex(start=52000000, stop=53000000, step=1)\n",
      "RangeIndex(start=53000000, stop=54000000, step=1)\n",
      "RangeIndex(start=54000000, stop=55000000, step=1)\n",
      "RangeIndex(start=55000000, stop=56000000, step=1)\n",
      "RangeIndex(start=56000000, stop=57000000, step=1)\n",
      "RangeIndex(start=57000000, stop=58000000, step=1)\n",
      "RangeIndex(start=58000000, stop=58327370, step=1)\n"
     ]
    }
   ],
   "source": [
    "# 58M points not possible to load in memory\n",
    "# hence we will split them into samples of 1M each\n",
    "step = 1_000_000\n",
    "for i in range(0, df_stm.shape[0], step):\n",
    "    print(df_stm[i:i + step].index)"
   ]
  },
  {
   "cell_type": "code",
   "execution_count": 23,
   "metadata": {
    "ExecuteTime": {
     "end_time": "2020-11-21T10:08:52.052744Z",
     "start_time": "2020-11-21T10:08:52.046161Z"
    }
   },
   "outputs": [
    {
     "data": {
      "text/plain": [
       "-327370"
      ]
     },
     "execution_count": 23,
     "metadata": {},
     "output_type": "execute_result"
    }
   ],
   "source": [
    "58000000 - 58327370"
   ]
  },
  {
   "cell_type": "raw",
   "metadata": {},
   "source": [
    "def generate_samples(self, )"
   ]
  },
  {
   "cell_type": "code",
   "execution_count": 16,
   "metadata": {
    "ExecuteTime": {
     "end_time": "2020-11-21T09:57:01.506623Z",
     "start_time": "2020-11-21T09:57:01.176596Z"
    }
   },
   "outputs": [],
   "source": [
    "part = df_stm[i:i + step]\n",
    "\n",
    "pd.options.mode.chained_assignment = None \n",
    "part.loc[:, 'id'] = part['id'].str.replace('_validation', '')"
   ]
  },
  {
   "cell_type": "code",
   "execution_count": 20,
   "metadata": {
    "ExecuteTime": {
     "end_time": "2020-11-21T10:02:14.368762Z",
     "start_time": "2020-11-21T10:02:14.364429Z"
    }
   },
   "outputs": [],
   "source": [
    "df_slp = data_melted['sell_prices']"
   ]
  },
  {
   "cell_type": "code",
   "execution_count": 22,
   "metadata": {
    "ExecuteTime": {
     "end_time": "2020-11-21T10:08:12.642419Z",
     "start_time": "2020-11-21T10:08:03.944934Z"
    }
   },
   "outputs": [
    {
     "data": {
      "text/html": [
       "<div>\n",
       "<style scoped>\n",
       "    .dataframe tbody tr th:only-of-type {\n",
       "        vertical-align: middle;\n",
       "    }\n",
       "\n",
       "    .dataframe tbody tr th {\n",
       "        vertical-align: top;\n",
       "    }\n",
       "\n",
       "    .dataframe thead th {\n",
       "        text-align: right;\n",
       "    }\n",
       "</style>\n",
       "<table border=\"1\" class=\"dataframe\">\n",
       "  <thead>\n",
       "    <tr style=\"text-align: right;\">\n",
       "      <th></th>\n",
       "      <th>id</th>\n",
       "      <th>day</th>\n",
       "      <th>sales</th>\n",
       "      <th>wm_yr_wk</th>\n",
       "      <th>sell_price</th>\n",
       "    </tr>\n",
       "  </thead>\n",
       "  <tbody>\n",
       "    <tr>\n",
       "      <th>0</th>\n",
       "      <td>FOODS_2_095_CA_3</td>\n",
       "      <td>d_1903</td>\n",
       "      <td>3</td>\n",
       "      <td>11403</td>\n",
       "      <td>4.421875</td>\n",
       "    </tr>\n",
       "    <tr>\n",
       "      <th>1</th>\n",
       "      <td>FOODS_2_095_CA_3</td>\n",
       "      <td>d_1903</td>\n",
       "      <td>3</td>\n",
       "      <td>11404</td>\n",
       "      <td>4.421875</td>\n",
       "    </tr>\n",
       "    <tr>\n",
       "      <th>2</th>\n",
       "      <td>FOODS_2_095_CA_3</td>\n",
       "      <td>d_1903</td>\n",
       "      <td>3</td>\n",
       "      <td>11405</td>\n",
       "      <td>4.421875</td>\n",
       "    </tr>\n",
       "    <tr>\n",
       "      <th>3</th>\n",
       "      <td>FOODS_2_095_CA_3</td>\n",
       "      <td>d_1903</td>\n",
       "      <td>3</td>\n",
       "      <td>11406</td>\n",
       "      <td>4.421875</td>\n",
       "    </tr>\n",
       "    <tr>\n",
       "      <th>4</th>\n",
       "      <td>FOODS_2_095_CA_3</td>\n",
       "      <td>d_1903</td>\n",
       "      <td>3</td>\n",
       "      <td>11407</td>\n",
       "      <td>4.421875</td>\n",
       "    </tr>\n",
       "    <tr>\n",
       "      <th>...</th>\n",
       "      <td>...</td>\n",
       "      <td>...</td>\n",
       "      <td>...</td>\n",
       "      <td>...</td>\n",
       "      <td>...</td>\n",
       "    </tr>\n",
       "    <tr>\n",
       "      <th>73478016</th>\n",
       "      <td>FOODS_3_827_WI_3</td>\n",
       "      <td>d_1913</td>\n",
       "      <td>0</td>\n",
       "      <td>11617</td>\n",
       "      <td>1.000000</td>\n",
       "    </tr>\n",
       "    <tr>\n",
       "      <th>73478017</th>\n",
       "      <td>FOODS_3_827_WI_3</td>\n",
       "      <td>d_1913</td>\n",
       "      <td>0</td>\n",
       "      <td>11618</td>\n",
       "      <td>1.000000</td>\n",
       "    </tr>\n",
       "    <tr>\n",
       "      <th>73478018</th>\n",
       "      <td>FOODS_3_827_WI_3</td>\n",
       "      <td>d_1913</td>\n",
       "      <td>0</td>\n",
       "      <td>11619</td>\n",
       "      <td>1.000000</td>\n",
       "    </tr>\n",
       "    <tr>\n",
       "      <th>73478019</th>\n",
       "      <td>FOODS_3_827_WI_3</td>\n",
       "      <td>d_1913</td>\n",
       "      <td>0</td>\n",
       "      <td>11620</td>\n",
       "      <td>1.000000</td>\n",
       "    </tr>\n",
       "    <tr>\n",
       "      <th>73478020</th>\n",
       "      <td>FOODS_3_827_WI_3</td>\n",
       "      <td>d_1913</td>\n",
       "      <td>0</td>\n",
       "      <td>11621</td>\n",
       "      <td>1.000000</td>\n",
       "    </tr>\n",
       "  </tbody>\n",
       "</table>\n",
       "<p>73478021 rows × 5 columns</p>\n",
       "</div>"
      ],
      "text/plain": [
       "                        id     day  sales  wm_yr_wk  sell_price\n",
       "0         FOODS_2_095_CA_3  d_1903      3     11403    4.421875\n",
       "1         FOODS_2_095_CA_3  d_1903      3     11404    4.421875\n",
       "2         FOODS_2_095_CA_3  d_1903      3     11405    4.421875\n",
       "3         FOODS_2_095_CA_3  d_1903      3     11406    4.421875\n",
       "4         FOODS_2_095_CA_3  d_1903      3     11407    4.421875\n",
       "...                    ...     ...    ...       ...         ...\n",
       "73478016  FOODS_3_827_WI_3  d_1913      0     11617    1.000000\n",
       "73478017  FOODS_3_827_WI_3  d_1913      0     11618    1.000000\n",
       "73478018  FOODS_3_827_WI_3  d_1913      0     11619    1.000000\n",
       "73478019  FOODS_3_827_WI_3  d_1913      0     11620    1.000000\n",
       "73478020  FOODS_3_827_WI_3  d_1913      0     11621    1.000000\n",
       "\n",
       "[73478021 rows x 5 columns]"
      ]
     },
     "execution_count": 22,
     "metadata": {},
     "output_type": "execute_result"
    }
   ],
   "source": [
    "part.merge(right=df_slp, on='id', how='left' )"
   ]
  },
  {
   "cell_type": "code",
   "execution_count": 25,
   "metadata": {
    "ExecuteTime": {
     "end_time": "2020-11-21T10:10:53.589504Z",
     "start_time": "2020-11-21T10:10:53.551668Z"
    }
   },
   "outputs": [
    {
     "data": {
      "text/html": [
       "<div>\n",
       "<style scoped>\n",
       "    .dataframe tbody tr th:only-of-type {\n",
       "        vertical-align: middle;\n",
       "    }\n",
       "\n",
       "    .dataframe tbody tr th {\n",
       "        vertical-align: top;\n",
       "    }\n",
       "\n",
       "    .dataframe thead th {\n",
       "        text-align: right;\n",
       "    }\n",
       "</style>\n",
       "<table border=\"1\" class=\"dataframe\">\n",
       "  <thead>\n",
       "    <tr style=\"text-align: right;\">\n",
       "      <th></th>\n",
       "      <th>id</th>\n",
       "      <th>day</th>\n",
       "      <th>sales</th>\n",
       "    </tr>\n",
       "  </thead>\n",
       "  <tbody>\n",
       "    <tr>\n",
       "      <th>58000000</th>\n",
       "      <td>FOODS_2_095_CA_3</td>\n",
       "      <td>d_1903</td>\n",
       "      <td>3</td>\n",
       "    </tr>\n",
       "    <tr>\n",
       "      <th>58000001</th>\n",
       "      <td>FOODS_2_096_CA_3</td>\n",
       "      <td>d_1903</td>\n",
       "      <td>0</td>\n",
       "    </tr>\n",
       "    <tr>\n",
       "      <th>58000002</th>\n",
       "      <td>FOODS_2_097_CA_3</td>\n",
       "      <td>d_1903</td>\n",
       "      <td>0</td>\n",
       "    </tr>\n",
       "    <tr>\n",
       "      <th>58000003</th>\n",
       "      <td>FOODS_2_099_CA_3</td>\n",
       "      <td>d_1903</td>\n",
       "      <td>4</td>\n",
       "    </tr>\n",
       "    <tr>\n",
       "      <th>58000004</th>\n",
       "      <td>FOODS_2_100_CA_3</td>\n",
       "      <td>d_1903</td>\n",
       "      <td>0</td>\n",
       "    </tr>\n",
       "    <tr>\n",
       "      <th>...</th>\n",
       "      <td>...</td>\n",
       "      <td>...</td>\n",
       "      <td>...</td>\n",
       "    </tr>\n",
       "    <tr>\n",
       "      <th>58327365</th>\n",
       "      <td>FOODS_3_823_WI_3</td>\n",
       "      <td>d_1913</td>\n",
       "      <td>1</td>\n",
       "    </tr>\n",
       "    <tr>\n",
       "      <th>58327366</th>\n",
       "      <td>FOODS_3_824_WI_3</td>\n",
       "      <td>d_1913</td>\n",
       "      <td>0</td>\n",
       "    </tr>\n",
       "    <tr>\n",
       "      <th>58327367</th>\n",
       "      <td>FOODS_3_825_WI_3</td>\n",
       "      <td>d_1913</td>\n",
       "      <td>0</td>\n",
       "    </tr>\n",
       "    <tr>\n",
       "      <th>58327368</th>\n",
       "      <td>FOODS_3_826_WI_3</td>\n",
       "      <td>d_1913</td>\n",
       "      <td>3</td>\n",
       "    </tr>\n",
       "    <tr>\n",
       "      <th>58327369</th>\n",
       "      <td>FOODS_3_827_WI_3</td>\n",
       "      <td>d_1913</td>\n",
       "      <td>0</td>\n",
       "    </tr>\n",
       "  </tbody>\n",
       "</table>\n",
       "<p>327370 rows × 3 columns</p>\n",
       "</div>"
      ],
      "text/plain": [
       "                        id     day  sales\n",
       "58000000  FOODS_2_095_CA_3  d_1903      3\n",
       "58000001  FOODS_2_096_CA_3  d_1903      0\n",
       "58000002  FOODS_2_097_CA_3  d_1903      0\n",
       "58000003  FOODS_2_099_CA_3  d_1903      4\n",
       "58000004  FOODS_2_100_CA_3  d_1903      0\n",
       "...                    ...     ...    ...\n",
       "58327365  FOODS_3_823_WI_3  d_1913      1\n",
       "58327366  FOODS_3_824_WI_3  d_1913      0\n",
       "58327367  FOODS_3_825_WI_3  d_1913      0\n",
       "58327368  FOODS_3_826_WI_3  d_1913      3\n",
       "58327369  FOODS_3_827_WI_3  d_1913      0\n",
       "\n",
       "[327370 rows x 3 columns]"
      ]
     },
     "execution_count": 25,
     "metadata": {},
     "output_type": "execute_result"
    }
   ],
   "source": [
    "part"
   ]
  }
 ],
 "metadata": {
  "kernelspec": {
   "display_name": "Python 3",
   "language": "python",
   "name": "python3"
  },
  "language_info": {
   "codemirror_mode": {
    "name": "ipython",
    "version": 3
   },
   "file_extension": ".py",
   "mimetype": "text/x-python",
   "name": "python",
   "nbconvert_exporter": "python",
   "pygments_lexer": "ipython3",
   "version": "3.7.7"
  },
  "toc": {
   "base_numbering": 1,
   "nav_menu": {},
   "number_sections": false,
   "sideBar": true,
   "skip_h1_title": false,
   "title_cell": "Table of Contents",
   "title_sidebar": "Contents",
   "toc_cell": false,
   "toc_position": {},
   "toc_section_display": true,
   "toc_window_display": false
  }
 },
 "nbformat": 4,
 "nbformat_minor": 4
}
