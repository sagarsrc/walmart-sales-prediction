{
 "cells": [
  {
   "cell_type": "markdown",
   "metadata": {},
   "source": [
    "lot1 = [\n",
    "    \"FOODS_1_089\", \"FOODS_2_209\", \"FOODS_3_257\", \"HOUSEHOLD_1_394\",\n",
    "    \"HOUSEHOLD_2_343\", \"HOBBIES_1_236\", \"HOBBIES_2_109\"\n",
    "]\n",
    "\n",
    "lot2 = [\n",
    "    \"FOODS_1_145\", \"FOODS_2_129\", \"FOODS_3_602\", \"HOUSEHOLD_1_511\",\n",
    "    \"HOUSEHOLD_2_369\", \"HOBBIES_1_345\", \"HOBBIES_2_077\"\n",
    "]"
   ]
  },
  {
   "cell_type": "markdown",
   "metadata": {},
   "source": [
    "# Initialize"
   ]
  },
  {
   "cell_type": "code",
   "execution_count": 1,
   "metadata": {
    "ExecuteTime": {
     "end_time": "2020-11-27T03:47:27.367760Z",
     "start_time": "2020-11-27T03:47:17.752202Z"
    }
   },
   "outputs": [
    {
     "name": "stdout",
     "output_type": "stream",
     "text": [
      "Your data root path : ../data\n"
     ]
    }
   ],
   "source": [
    "# set path for source files\n",
    "import sys\n",
    "src_files_path = \"../src/\"\n",
    "if src_files_path not in sys.path:\n",
    "    sys.path.append(src_files_path)\n",
    "\n",
    "\n",
    "# required libraries\n",
    "import numpy as np\n",
    "import pandas as pd\n",
    "\n",
    "import matplotlib.pyplot as plt\n",
    "import seaborn as sns\n",
    "\n",
    "# custom scripts\n",
    "import data\n",
    "import utils\n",
    "import plots\n",
    "\n",
    "data_prep = data.DataPrepare(\"../data\")\n",
    "util_handle = utils.Utils()\n",
    "plot_handle = plots.Plot()"
   ]
  },
  {
   "cell_type": "raw",
   "metadata": {
    "ExecuteTime": {
     "end_time": "2020-11-26T06:28:43.448087Z",
     "start_time": "2020-11-26T06:28:38.551933Z"
    }
   },
   "source": [
    "data_melted = data_prep.prepare_data(eda=True, eda_params=None)\n",
    "data_melted.keys()\n",
    "\n",
    "df_stm = data_melted['sales_train_melted']\n",
    "df_stm.groupby(by='store_id')['sales'].agg('sum')"
   ]
  },
  {
   "cell_type": "code",
   "execution_count": 2,
   "metadata": {
    "ExecuteTime": {
     "end_time": "2020-11-27T03:48:08.082674Z",
     "start_time": "2020-11-27T03:47:42.614079Z"
    }
   },
   "outputs": [
    {
     "name": "stdout",
     "output_type": "stream",
     "text": [
      "Loading ../data/processed/data_melted.bin\n",
      "Loading ../data/processed/eda_lot1.bin\n"
     ]
    },
    {
     "data": {
      "text/plain": [
       "dict_keys(['calendar', 'sell_prices', 'submission_melted', 'lot_data'])"
      ]
     },
     "execution_count": 2,
     "metadata": {},
     "output_type": "execute_result"
    }
   ],
   "source": [
    "lot1 = [\n",
    "    \"FOODS_1_089\", \"FOODS_2_209\", \"FOODS_3_090\", \"HOUSEHOLD_1_394\",\n",
    "    \"HOUSEHOLD_2_343\", \"HOBBIES_1_236\", \"HOBBIES_2_109\"\n",
    "]\n",
    "\n",
    "data_eda = data_prep.prepare_data(eda=True, eda_params={\"keep_items\": lot1, \"save_name\":'eda_lot1'})\n",
    "data_eda.keys()"
   ]
  },
  {
   "cell_type": "code",
   "execution_count": 3,
   "metadata": {
    "ExecuteTime": {
     "end_time": "2020-11-27T03:48:08.088315Z",
     "start_time": "2020-11-27T03:48:08.085061Z"
    }
   },
   "outputs": [],
   "source": [
    "df_cal = data_eda['calendar']"
   ]
  },
  {
   "cell_type": "code",
   "execution_count": 4,
   "metadata": {
    "ExecuteTime": {
     "end_time": "2020-11-27T03:48:08.225204Z",
     "start_time": "2020-11-27T03:48:08.091387Z"
    }
   },
   "outputs": [],
   "source": [
    "lot1_data = data_eda['lot_data']\n",
    "lot1_keys = list(lot1_data.keys())\n",
    "\n",
    "# get item from lot_data\n",
    "key = lot1_keys[2]\n",
    "df_part = lot1_data[key]"
   ]
  },
  {
   "cell_type": "raw",
   "metadata": {
    "ExecuteTime": {
     "end_time": "2020-11-25T12:55:17.930059Z",
     "start_time": "2020-11-25T12:54:54.867Z"
    }
   },
   "source": [
    "# number of sales per store\n",
    "\n",
    "plot_handle.num_sales_per_store(df_part, key)"
   ]
  },
  {
   "cell_type": "raw",
   "metadata": {
    "ExecuteTime": {
     "end_time": "2020-11-25T12:55:17.931717Z",
     "start_time": "2020-11-25T12:54:54.869Z"
    },
    "code_folding": []
   },
   "source": [
    "# view sporadic demand by viewing per day sale of each store\n",
    "\n",
    "plot_handle.view_item_sales_store(df_part, key)"
   ]
  },
  {
   "cell_type": "raw",
   "metadata": {
    "ExecuteTime": {
     "end_time": "2020-11-26T05:07:52.178489Z",
     "start_time": "2020-11-26T05:07:49.517059Z"
    }
   },
   "source": [
    "# view average item sales over a period\n",
    "\n",
    "plot_handle.view_avg_item_sales(df_part, df_cal, period='week', item_name=key)\n",
    "plot_handle.view_avg_item_sales(df_part, df_cal, period='month', item_name=key)\n",
    "plot_handle.view_avg_item_sales(df_part, df_cal, period='year', item_name=key)"
   ]
  }
 ],
 "metadata": {
  "kernelspec": {
   "display_name": "Python 3",
   "language": "python",
   "name": "python3"
  },
  "language_info": {
   "codemirror_mode": {
    "name": "ipython",
    "version": 3
   },
   "file_extension": ".py",
   "mimetype": "text/x-python",
   "name": "python",
   "nbconvert_exporter": "python",
   "pygments_lexer": "ipython3",
   "version": "3.7.7"
  },
  "toc": {
   "base_numbering": 1,
   "nav_menu": {},
   "number_sections": false,
   "sideBar": true,
   "skip_h1_title": false,
   "title_cell": "Table of Contents",
   "title_sidebar": "Contents",
   "toc_cell": false,
   "toc_position": {},
   "toc_section_display": true,
   "toc_window_display": false
  }
 },
 "nbformat": 4,
 "nbformat_minor": 4
}
