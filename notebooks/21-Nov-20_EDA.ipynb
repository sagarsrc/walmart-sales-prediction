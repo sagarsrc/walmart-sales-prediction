{
 "cells": [
  {
   "cell_type": "markdown",
   "metadata": {},
   "source": [
    "# Initialize"
   ]
  },
  {
   "cell_type": "code",
   "execution_count": 1,
   "metadata": {
    "ExecuteTime": {
     "end_time": "2020-11-21T17:28:04.097518Z",
     "start_time": "2020-11-21T17:28:03.220946Z"
    }
   },
   "outputs": [
    {
     "name": "stdout",
     "output_type": "stream",
     "text": [
      "Your data root path : ../data\n"
     ]
    }
   ],
   "source": [
    "# set path for source files\n",
    "import sys\n",
    "src_files_path = \"../src/\"\n",
    "if src_files_path not in sys.path:\n",
    "    sys.path.append(src_files_path)\n",
    "\n",
    "\n",
    "# required libraries\n",
    "import numpy as np\n",
    "import pandas as pd\n",
    "\n",
    "import matplotlib.pyplot as plt\n",
    "import seaborn as sns\n",
    "\n",
    "# custom scripts\n",
    "import data\n",
    "import utils\n",
    "\n",
    "data_prep = data.DataPrepare(\"../data\")\n",
    "util_handle = utils.Utils()"
   ]
  },
  {
   "cell_type": "code",
   "execution_count": 2,
   "metadata": {
    "ExecuteTime": {
     "end_time": "2020-11-21T17:28:06.343705Z",
     "start_time": "2020-11-21T17:28:04.101228Z"
    }
   },
   "outputs": [
    {
     "name": "stdout",
     "output_type": "stream",
     "text": [
      "Loading ../data/processed/data_melted.bin\n"
     ]
    },
    {
     "data": {
      "text/plain": [
       "dict_keys(['calendar', 'sales_train_melted', 'sell_prices', 'submission_melted'])"
      ]
     },
     "execution_count": 2,
     "metadata": {},
     "output_type": "execute_result"
    }
   ],
   "source": [
    "data_melted = data_prep.prepare_data()\n",
    "data_melted.keys()"
   ]
  },
  {
   "cell_type": "raw",
   "metadata": {},
   "source": [
    "<item_id>_<store_id>"
   ]
  },
  {
   "cell_type": "code",
   "execution_count": 3,
   "metadata": {
    "ExecuteTime": {
     "end_time": "2020-11-21T17:28:15.511262Z",
     "start_time": "2020-11-21T17:28:06.346214Z"
    }
   },
   "outputs": [],
   "source": [
    "df_stm = data_melted['sales_train_melted']\n",
    "\n",
    "# df_stm['item_id'] = df_stm['id'].str[:-5]\n",
    "# df_stm['dept_id'] = df_stm['id'].str[:-9]\n",
    "# df_stm['store_id'] = df_stm['id'].str[-4:]"
   ]
  },
  {
   "cell_type": "code",
   "execution_count": 11,
   "metadata": {
    "ExecuteTime": {
     "end_time": "2020-11-21T17:31:30.862352Z",
     "start_time": "2020-11-21T17:31:30.856309Z"
    }
   },
   "outputs": [],
   "source": [
    "df_slp = data_melted['sell_prices']"
   ]
  },
  {
   "cell_type": "code",
   "execution_count": 14,
   "metadata": {
    "ExecuteTime": {
     "end_time": "2020-11-21T17:34:12.337115Z",
     "start_time": "2020-11-21T17:34:12.214164Z"
    }
   },
   "outputs": [
    {
     "data": {
      "text/html": [
       "<div>\n",
       "<style scoped>\n",
       "    .dataframe tbody tr th:only-of-type {\n",
       "        vertical-align: middle;\n",
       "    }\n",
       "\n",
       "    .dataframe tbody tr th {\n",
       "        vertical-align: top;\n",
       "    }\n",
       "\n",
       "    .dataframe thead th {\n",
       "        text-align: right;\n",
       "    }\n",
       "</style>\n",
       "<table border=\"1\" class=\"dataframe\">\n",
       "  <thead>\n",
       "    <tr style=\"text-align: right;\">\n",
       "      <th></th>\n",
       "      <th>id</th>\n",
       "      <th>day</th>\n",
       "      <th>sales</th>\n",
       "      <th>item_id</th>\n",
       "      <th>dept_id</th>\n",
       "      <th>store_id</th>\n",
       "    </tr>\n",
       "  </thead>\n",
       "  <tbody>\n",
       "    <tr>\n",
       "      <th>56327370</th>\n",
       "      <td>HOBBIES_1_149_TX_1</td>\n",
       "      <td>d_1848</td>\n",
       "      <td>0</td>\n",
       "      <td>HOBBIES_1_149</td>\n",
       "      <td>HOBBIES_1</td>\n",
       "      <td>TX_1</td>\n",
       "    </tr>\n",
       "    <tr>\n",
       "      <th>56327371</th>\n",
       "      <td>HOBBIES_1_150_TX_1</td>\n",
       "      <td>d_1848</td>\n",
       "      <td>0</td>\n",
       "      <td>HOBBIES_1_150</td>\n",
       "      <td>HOBBIES_1</td>\n",
       "      <td>TX_1</td>\n",
       "    </tr>\n",
       "    <tr>\n",
       "      <th>56327372</th>\n",
       "      <td>HOBBIES_1_151_TX_1</td>\n",
       "      <td>d_1848</td>\n",
       "      <td>1</td>\n",
       "      <td>HOBBIES_1_151</td>\n",
       "      <td>HOBBIES_1</td>\n",
       "      <td>TX_1</td>\n",
       "    </tr>\n",
       "    <tr>\n",
       "      <th>56327373</th>\n",
       "      <td>HOBBIES_1_152_TX_1</td>\n",
       "      <td>d_1848</td>\n",
       "      <td>1</td>\n",
       "      <td>HOBBIES_1_152</td>\n",
       "      <td>HOBBIES_1</td>\n",
       "      <td>TX_1</td>\n",
       "    </tr>\n",
       "    <tr>\n",
       "      <th>56327374</th>\n",
       "      <td>HOBBIES_1_153_TX_1</td>\n",
       "      <td>d_1848</td>\n",
       "      <td>6</td>\n",
       "      <td>HOBBIES_1_153</td>\n",
       "      <td>HOBBIES_1</td>\n",
       "      <td>TX_1</td>\n",
       "    </tr>\n",
       "    <tr>\n",
       "      <th>...</th>\n",
       "      <td>...</td>\n",
       "      <td>...</td>\n",
       "      <td>...</td>\n",
       "      <td>...</td>\n",
       "      <td>...</td>\n",
       "      <td>...</td>\n",
       "    </tr>\n",
       "    <tr>\n",
       "      <th>58327365</th>\n",
       "      <td>FOODS_3_823_WI_3</td>\n",
       "      <td>d_1913</td>\n",
       "      <td>1</td>\n",
       "      <td>FOODS_3_823</td>\n",
       "      <td>FOODS_3</td>\n",
       "      <td>WI_3</td>\n",
       "    </tr>\n",
       "    <tr>\n",
       "      <th>58327366</th>\n",
       "      <td>FOODS_3_824_WI_3</td>\n",
       "      <td>d_1913</td>\n",
       "      <td>0</td>\n",
       "      <td>FOODS_3_824</td>\n",
       "      <td>FOODS_3</td>\n",
       "      <td>WI_3</td>\n",
       "    </tr>\n",
       "    <tr>\n",
       "      <th>58327367</th>\n",
       "      <td>FOODS_3_825_WI_3</td>\n",
       "      <td>d_1913</td>\n",
       "      <td>0</td>\n",
       "      <td>FOODS_3_825</td>\n",
       "      <td>FOODS_3</td>\n",
       "      <td>WI_3</td>\n",
       "    </tr>\n",
       "    <tr>\n",
       "      <th>58327368</th>\n",
       "      <td>FOODS_3_826_WI_3</td>\n",
       "      <td>d_1913</td>\n",
       "      <td>3</td>\n",
       "      <td>FOODS_3_826</td>\n",
       "      <td>FOODS_3</td>\n",
       "      <td>WI_3</td>\n",
       "    </tr>\n",
       "    <tr>\n",
       "      <th>58327369</th>\n",
       "      <td>FOODS_3_827_WI_3</td>\n",
       "      <td>d_1913</td>\n",
       "      <td>0</td>\n",
       "      <td>FOODS_3_827</td>\n",
       "      <td>FOODS_3</td>\n",
       "      <td>WI_3</td>\n",
       "    </tr>\n",
       "  </tbody>\n",
       "</table>\n",
       "<p>2000000 rows × 6 columns</p>\n",
       "</div>"
      ],
      "text/plain": [
       "                          id     day  sales        item_id    dept_id store_id\n",
       "56327370  HOBBIES_1_149_TX_1  d_1848      0  HOBBIES_1_149  HOBBIES_1     TX_1\n",
       "56327371  HOBBIES_1_150_TX_1  d_1848      0  HOBBIES_1_150  HOBBIES_1     TX_1\n",
       "56327372  HOBBIES_1_151_TX_1  d_1848      1  HOBBIES_1_151  HOBBIES_1     TX_1\n",
       "56327373  HOBBIES_1_152_TX_1  d_1848      1  HOBBIES_1_152  HOBBIES_1     TX_1\n",
       "56327374  HOBBIES_1_153_TX_1  d_1848      6  HOBBIES_1_153  HOBBIES_1     TX_1\n",
       "...                      ...     ...    ...            ...        ...      ...\n",
       "58327365    FOODS_3_823_WI_3  d_1913      1    FOODS_3_823    FOODS_3     WI_3\n",
       "58327366    FOODS_3_824_WI_3  d_1913      0    FOODS_3_824    FOODS_3     WI_3\n",
       "58327367    FOODS_3_825_WI_3  d_1913      0    FOODS_3_825    FOODS_3     WI_3\n",
       "58327368    FOODS_3_826_WI_3  d_1913      3    FOODS_3_826    FOODS_3     WI_3\n",
       "58327369    FOODS_3_827_WI_3  d_1913      0    FOODS_3_827    FOODS_3     WI_3\n",
       "\n",
       "[2000000 rows x 6 columns]"
      ]
     },
     "execution_count": 14,
     "metadata": {},
     "output_type": "execute_result"
    }
   ],
   "source": [
    "df_stm.iloc[-2_000_000:]"
   ]
  }
 ],
 "metadata": {
  "kernelspec": {
   "display_name": "Python 3",
   "language": "python",
   "name": "python3"
  },
  "language_info": {
   "codemirror_mode": {
    "name": "ipython",
    "version": 3
   },
   "file_extension": ".py",
   "mimetype": "text/x-python",
   "name": "python",
   "nbconvert_exporter": "python",
   "pygments_lexer": "ipython3",
   "version": "3.7.7"
  },
  "toc": {
   "base_numbering": 1,
   "nav_menu": {},
   "number_sections": false,
   "sideBar": true,
   "skip_h1_title": false,
   "title_cell": "Table of Contents",
   "title_sidebar": "Contents",
   "toc_cell": false,
   "toc_position": {},
   "toc_section_display": true,
   "toc_window_display": false
  }
 },
 "nbformat": 4,
 "nbformat_minor": 4
}
